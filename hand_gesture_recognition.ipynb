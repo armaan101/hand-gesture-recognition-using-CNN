{
 "cells": [
  {
   "cell_type": "code",
   "execution_count": 1,
   "metadata": {},
   "outputs": [
    {
     "name": "stderr",
     "output_type": "stream",
     "text": [
      "Using TensorFlow backend.\n"
     ]
    }
   ],
   "source": [
    "import numpy as np\n",
    "import pandas as pd\n",
    "import os\n",
    "from PIL import Image\n",
    "import matplotlib.pyplot as plt\n",
    "from keras.models import Sequential\n",
    "from keras.layers import Dense,Activation,Convolution2D,Flatten,MaxPooling2D\n",
    "from keras.utils import np_utils\n",
    "from keras.layers import Dropout\n",
    "\n"
   ]
  },
  {
   "cell_type": "code",
   "execution_count": 2,
   "metadata": {},
   "outputs": [
    {
     "name": "stdout",
     "output_type": "stream",
     "text": [
      "(4490, 2500)\n",
      "(4490, 1)\n"
     ]
    }
   ],
   "source": [
    "ds_X = pd.read_csv('/home/armaan/Hand_Gesture/dataset_X.csv')\n",
    "ds_Y = pd.read_csv('/home/armaan/Hand_Gesture/dataset_Y.csv')\n",
    "print ds_X.shape\n",
    "print ds_Y.shape"
   ]
  },
  {
   "cell_type": "code",
   "execution_count": 3,
   "metadata": {},
   "outputs": [
    {
     "name": "stdout",
     "output_type": "stream",
     "text": [
      "(4490, 2500)\n",
      "(4490, 1)\n",
      "(4490, 2501)\n"
     ]
    }
   ],
   "source": [
    "X_data = np.array(ds_X)\n",
    "Y_data = np.array(ds_Y)\n",
    "print X_data.shape\n",
    "print Y_data.shape\n",
    "data = np.concatenate((X_data,Y_data),axis=1)\n",
    "print data.shape"
   ]
  },
  {
   "cell_type": "code",
   "execution_count": 4,
   "metadata": {},
   "outputs": [
    {
     "name": "stdout",
     "output_type": "stream",
     "text": [
      "(4490, 5)\n"
     ]
    }
   ],
   "source": [
    "X_data = data[:,:-1]\n",
    "Y_data = data[:,-1]\n",
    "Y_data = np_utils.to_categorical(Y_data)\n",
    "print Y_data.shape\n"
   ]
  },
  {
   "cell_type": "code",
   "execution_count": 5,
   "metadata": {},
   "outputs": [],
   "source": [
    "split = int(0.8*data.shape[0])\n",
    "X_train = X_data[:split,:]\n",
    "Y_train = Y_data[:split,:]\n",
    "\n",
    "X_test = X_data[split:,:]\n",
    "Y_test = Y_data[split:,:]"
   ]
  },
  {
   "cell_type": "code",
   "execution_count": 6,
   "metadata": {},
   "outputs": [
    {
     "name": "stdout",
     "output_type": "stream",
     "text": [
      "(3592, 2500)\n",
      "(3592, 5)\n",
      "(898, 2500)\n",
      "(898, 5)\n"
     ]
    }
   ],
   "source": [
    "print X_train.shape\n",
    "print Y_train.shape\n",
    "\n",
    "print X_test.shape\n",
    "print Y_test.shape"
   ]
  },
  {
   "cell_type": "code",
   "execution_count": 7,
   "metadata": {},
   "outputs": [],
   "source": [
    "X_train = X_train/255.0\n",
    "X_test = X_test/255.0"
   ]
  },
  {
   "cell_type": "code",
   "execution_count": 8,
   "metadata": {},
   "outputs": [
    {
     "name": "stdout",
     "output_type": "stream",
     "text": [
      "(3592, 50, 50, 1)\n",
      "(898, 50, 50, 1)\n"
     ]
    }
   ],
   "source": [
    "X_train = X_train.reshape((-1, 50, 50, 1))\n",
    "X_test = X_test.reshape((-1, 50, 50, 1))\n",
    "print X_train.shape\n",
    "print X_test.shape"
   ]
  },
  {
   "cell_type": "code",
   "execution_count": 9,
   "metadata": {},
   "outputs": [
    {
     "name": "stdout",
     "output_type": "stream",
     "text": [
      "_________________________________________________________________\n",
      "Layer (type)                 Output Shape              Param #   \n",
      "=================================================================\n",
      "conv2d_1 (Conv2D)            (None, 48, 48, 32)        320       \n",
      "_________________________________________________________________\n",
      "activation_1 (Activation)    (None, 48, 48, 32)        0         \n",
      "_________________________________________________________________\n",
      "conv2d_2 (Conv2D)            (None, 46, 46, 16)        4624      \n",
      "_________________________________________________________________\n",
      "activation_2 (Activation)    (None, 46, 46, 16)        0         \n",
      "_________________________________________________________________\n",
      "max_pooling2d_1 (MaxPooling2 (None, 23, 23, 16)        0         \n",
      "_________________________________________________________________\n",
      "conv2d_3 (Conv2D)            (None, 21, 21, 8)         1160      \n",
      "_________________________________________________________________\n",
      "activation_3 (Activation)    (None, 21, 21, 8)         0         \n",
      "_________________________________________________________________\n",
      "conv2d_4 (Conv2D)            (None, 19, 19, 8)         584       \n",
      "_________________________________________________________________\n",
      "activation_4 (Activation)    (None, 19, 19, 8)         0         \n",
      "_________________________________________________________________\n",
      "flatten_1 (Flatten)          (None, 2888)              0         \n",
      "_________________________________________________________________\n",
      "dense_1 (Dense)              (None, 256)               739584    \n",
      "_________________________________________________________________\n",
      "dropout_1 (Dropout)          (None, 256)               0         \n",
      "_________________________________________________________________\n",
      "activation_5 (Activation)    (None, 256)               0         \n",
      "_________________________________________________________________\n",
      "dense_2 (Dense)              (None, 5)                 1285      \n",
      "_________________________________________________________________\n",
      "dropout_2 (Dropout)          (None, 5)                 0         \n",
      "_________________________________________________________________\n",
      "activation_6 (Activation)    (None, 5)                 0         \n",
      "=================================================================\n",
      "Total params: 747,557\n",
      "Trainable params: 747,557\n",
      "Non-trainable params: 0\n",
      "_________________________________________________________________\n"
     ]
    }
   ],
   "source": [
    "model = Sequential()\n",
    "\n",
    "\n",
    "model.add(Convolution2D(32, kernel_size=(3, 3), input_shape=(50, 50, 1)))\n",
    "model.add(Activation('relu'))\n",
    "\n",
    "model.add(Convolution2D(16, kernel_size=(3, 3)))\n",
    "model.add(Activation('relu'))\n",
    "\n",
    "model.add(MaxPooling2D(pool_size=(2, 2)))\n",
    "\n",
    "model.add(Convolution2D(8, (3, 3)))\n",
    "model.add(Activation('relu'))\n",
    "\n",
    "model.add(Convolution2D(8, (3, 3)))\n",
    "model.add(Activation('relu'))\n",
    "\n",
    "model.add(Flatten())\n",
    "\n",
    "model.add(Dense(256))\n",
    "model.add(Dropout(0.25))\n",
    "model.add(Activation('relu'))\n",
    "\n",
    "model.add(Dense(5))\n",
    "model.add(Dropout(0.2))\n",
    "\n",
    "model.add(Activation('softmax'))\n",
    "model.summary()"
   ]
  },
  {
   "cell_type": "code",
   "execution_count": 10,
   "metadata": {},
   "outputs": [],
   "source": [
    "model.compile(optimizer='adam', loss='categorical_crossentropy', metrics=['accuracy'])"
   ]
  },
  {
   "cell_type": "code",
   "execution_count": 11,
   "metadata": {},
   "outputs": [
    {
     "name": "stdout",
     "output_type": "stream",
     "text": [
      "Train on 3592 samples, validate on 898 samples\n",
      "Epoch 1/10\n",
      "3592/3592 [==============================] - 19s 5ms/step - loss: 0.2970 - acc: 0.8828 - val_loss: 1.0971 - val_acc: 0.4042\n",
      "Epoch 2/10\n",
      "3592/3592 [==============================] - 18s 5ms/step - loss: 0.1052 - acc: 0.9549 - val_loss: 1.1277 - val_acc: 0.4065\n",
      "Epoch 3/10\n",
      "3592/3592 [==============================] - 18s 5ms/step - loss: 0.1032 - acc: 0.9479 - val_loss: 0.9960 - val_acc: 0.4065\n",
      "Epoch 4/10\n",
      "3592/3592 [==============================] - 20s 5ms/step - loss: 0.1369 - acc: 0.9393 - val_loss: 1.1545 - val_acc: 0.4065\n",
      "Epoch 5/10\n",
      "3592/3592 [==============================] - 17s 5ms/step - loss: 0.0991 - acc: 0.9521 - val_loss: 1.1941 - val_acc: 0.4065\n",
      "Epoch 6/10\n",
      "3592/3592 [==============================] - 27s 8ms/step - loss: 0.1068 - acc: 0.9499 - val_loss: 1.1918 - val_acc: 0.4065\n",
      "Epoch 7/10\n",
      "3592/3592 [==============================] - 19s 5ms/step - loss: 0.1054 - acc: 0.9427 - val_loss: 1.1200 - val_acc: 0.4065\n",
      "Epoch 8/10\n",
      "3592/3592 [==============================] - 18s 5ms/step - loss: 0.1025 - acc: 0.9493 - val_loss: 1.0864 - val_acc: 0.4065\n",
      "Epoch 9/10\n",
      "3592/3592 [==============================] - 18s 5ms/step - loss: 0.1000 - acc: 0.9457 - val_loss: 1.0879 - val_acc: 0.4065\n",
      "Epoch 10/10\n",
      "3592/3592 [==============================] - 18s 5ms/step - loss: 0.1169 - acc: 0.9499 - val_loss: 2.9766 - val_acc: 0.4065\n"
     ]
    },
    {
     "data": {
      "text/plain": [
       "<keras.callbacks.History at 0x7f9b8d1d0390>"
      ]
     },
     "execution_count": 11,
     "metadata": {},
     "output_type": "execute_result"
    }
   ],
   "source": [
    "model.fit(X_train, Y_train, epochs=10, batch_size=8, validation_data=[X_test, Y_test])"
   ]
  },
  {
   "cell_type": "code",
   "execution_count": 12,
   "metadata": {},
   "outputs": [
    {
     "data": {
      "text/plain": [
       "array([[1.8804387e-09, 1.8314425e-12, 8.6568116e-04, 9.9913436e-01,\n",
       "        6.8099387e-10],\n",
       "       [2.9813720e-09, 1.0992901e-13, 4.5437112e-08, 1.0000000e+00,\n",
       "        4.9065452e-12],\n",
       "       [1.0820863e-09, 6.8472995e-16, 9.7153952e-12, 1.0000000e+00,\n",
       "        5.6472639e-14],\n",
       "       ...,\n",
       "       [2.3609048e-02, 3.0247497e-03, 1.1736832e-02, 9.5499206e-01,\n",
       "        6.6373809e-03],\n",
       "       [2.3609048e-02, 3.0247497e-03, 1.1736832e-02, 9.5499206e-01,\n",
       "        6.6373809e-03],\n",
       "       [2.3609048e-02, 3.0247497e-03, 1.1736832e-02, 9.5499206e-01,\n",
       "        6.6373809e-03]], dtype=float32)"
      ]
     },
     "execution_count": 12,
     "metadata": {},
     "output_type": "execute_result"
    }
   ],
   "source": [
    "model.predict(X_test,batch_size=50, verbose=0, steps=None)"
   ]
  },
  {
   "cell_type": "code",
   "execution_count": 13,
   "metadata": {},
   "outputs": [],
   "source": [
    "import pickle"
   ]
  },
  {
   "cell_type": "code",
   "execution_count": 14,
   "metadata": {},
   "outputs": [],
   "source": [
    "with open('model_pickle','wb') as f:\n",
    "    pickle.dump(model,f)"
   ]
  }
 ],
 "metadata": {
  "kernelspec": {
   "display_name": "Python 2",
   "language": "python",
   "name": "python2"
  },
  "language_info": {
   "codemirror_mode": {
    "name": "ipython",
    "version": 2
   },
   "file_extension": ".py",
   "mimetype": "text/x-python",
   "name": "python",
   "nbconvert_exporter": "python",
   "pygments_lexer": "ipython2",
   "version": "2.7.15rc1"
  }
 },
 "nbformat": 4,
 "nbformat_minor": 2
}
