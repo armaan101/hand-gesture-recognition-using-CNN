{
 "cells": [
  {
   "cell_type": "code",
   "execution_count": 28,
   "metadata": {},
   "outputs": [],
   "source": [
    "import pickle\n",
    "import cv2\n",
    "import imutils\n",
    "import numpy as np\n",
    "from __future__ import print_function"
   ]
  },
  {
   "cell_type": "code",
   "execution_count": 29,
   "metadata": {},
   "outputs": [],
   "source": [
    "with open('model_pickle','rb') as f:\n",
    "    model = pickle.load(f)"
   ]
  },
  {
   "cell_type": "code",
   "execution_count": 30,
   "metadata": {},
   "outputs": [],
   "source": [
    "def testData(image):\n",
    "    image = np.array(image)\n",
    "    image = image.reshape((-1, 50, 50, 1))\n",
    "    y = model.predict(image)\n",
    "    z = y.tolist()\n",
    "    x = z[0].index(max(z[0]))\n",
    "    return x"
   ]
  },
  {
   "cell_type": "code",
   "execution_count": 31,
   "metadata": {},
   "outputs": [],
   "source": [
    "background = None\n",
    "def run_avg(image,awt):\n",
    "    global background\n",
    "    if background is None:\n",
    "        background = image.copy().astype(\"float\")\n",
    "        return\n",
    "    cv2.accumulateWeighted(image,background,awt)\n",
    "    "
   ]
  },
  {
   "cell_type": "code",
   "execution_count": 32,
   "metadata": {},
   "outputs": [],
   "source": [
    "def segment(image,threshold=25):\n",
    "    global background\n",
    "    diff = cv2.absdiff(background.astype('uint8'),image) \n",
    "    thresholded = cv2.threshold(diff,threshold,255,cv2.THRESH_BINARY)[1]\n",
    "    (_, cnts, _) = cv2.findContours(thresholded.copy(),cv2.RETR_EXTERNAL,cv2.CHAIN_APPROX_SIMPLE)\n",
    "    if(len(cnts)==0):\n",
    "        return\n",
    "    else:\n",
    "        segmented = max(cnts, key=cv2.contourArea)\n",
    "        return (thresholded, segmented)\n",
    "    "
   ]
  },
  {
   "cell_type": "code",
   "execution_count": 33,
   "metadata": {},
   "outputs": [],
   "source": [
    "def gesture(number):\n",
    "    switcher={\n",
    "        0:'peace',\n",
    "        1:'hand',\n",
    "        2:'fist',\n",
    "        3:'one'\n",
    "    }\n",
    "    return switcher.get(number,'Invalid')"
   ]
  },
  {
   "cell_type": "code",
   "execution_count": 34,
   "metadata": {},
   "outputs": [],
   "source": [
    "# weight for running average\n",
    "awt = 0.5\n",
    "camera = cv2.VideoCapture(0)\n",
    "#region of interest coordinates\n",
    "top, right, bottom, left = 150, 250, 200, 300\n",
    "num_frames = 0\n",
    "\n",
    "while(True):\n",
    "    (grabbed, frame) = camera.read()\n",
    "    frame = imutils.resize(frame, width=400)\n",
    "# flip the frame so that it is not the mirror view\n",
    "    frame = cv2.flip(frame, 1)\n",
    "    clone = frame.copy()\n",
    "    (height, width) = frame.shape[:2]\n",
    "    roi = frame[top:bottom, right:left]\n",
    "# convert the roi to grayscale and blur it\n",
    "    gray = cv2.cvtColor(roi, cv2.COLOR_BGR2GRAY)\n",
    "    gray = cv2.GaussianBlur(gray, (7, 7), 0)\n",
    "    if num_frames < 30:\n",
    "        run_avg(gray, aWeight)\n",
    "    else:\n",
    "# segment the hand region\n",
    "        hand = segment(gray)\n",
    "        if hand is not None:\n",
    "            (thresholded, segmented) = hand\n",
    "# draw the segmented region and display the frame\n",
    "            cv2.drawContours(clone, [segmented + (right, top)], -1, (0, 0, 255))\n",
    "            font = cv2.FONT_HERSHEY_DUPLEX\n",
    "            number = testData(thresholded)\n",
    "            sign = gesture(number)\n",
    "            cv2.putText(clone,sign,(right,top-15),font,1,(0,0,255))\n",
    "            cv2.imshow(\"Thesholded\", thresholded)\n",
    "# draw the segmented hand\n",
    "    cv2.rectangle(clone, (left, top), (right, bottom), (0,255,0), 3)\n",
    "    num_frames += 1\n",
    "# display the frame with segmented hand\n",
    "    cv2.imshow(\"Video Feed\", clone)\n",
    "# observe the keypress by the user\n",
    "    keypress = cv2.waitKey(1) & 0xFF\n",
    "# if the user pressed \"q\", then stop looping\n",
    "    if keypress == ord(\"q\"):\n",
    "        break\n",
    "camera.release()\n",
    "cv2.destroyAllWindows()"
   ]
  },
  {
   "cell_type": "code",
   "execution_count": null,
   "metadata": {},
   "outputs": [],
   "source": []
  },
  {
   "cell_type": "code",
   "execution_count": null,
   "metadata": {},
   "outputs": [],
   "source": []
  }
 ],
 "metadata": {
  "kernelspec": {
   "display_name": "Python 2",
   "language": "python",
   "name": "python2"
  },
  "language_info": {
   "codemirror_mode": {
    "name": "ipython",
    "version": 2
   },
   "file_extension": ".py",
   "mimetype": "text/x-python",
   "name": "python",
   "nbconvert_exporter": "python",
   "pygments_lexer": "ipython2",
   "version": "2.7.15rc1"
  }
 },
 "nbformat": 4,
 "nbformat_minor": 2
}
