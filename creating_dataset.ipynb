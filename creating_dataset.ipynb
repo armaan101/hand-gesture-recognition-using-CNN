{
 "cells": [
  {
   "cell_type": "code",
   "execution_count": 7,
   "metadata": {},
   "outputs": [],
   "source": [
    "import os\n",
    "from PIL import Image\n",
    "import numpy as np"
   ]
  },
  {
   "cell_type": "code",
   "execution_count": 8,
   "metadata": {},
   "outputs": [
    {
     "name": "stdout",
     "output_type": "stream",
     "text": [
      "['peace', 'hand', 'fist', 'one', 'none']\n"
     ]
    }
   ],
   "source": [
    "count = 0\n",
    "gestures = os.listdir('/home/armaan/Hand_Gesture/images_data')\n",
    "print(gestures)"
   ]
  },
  {
   "cell_type": "code",
   "execution_count": 10,
   "metadata": {},
   "outputs": [],
   "source": [
    "X_data = []\n",
    "Y_data = []\n",
    "count = 0\n",
    "for gest in gestures:\n",
    "    frames = os.listdir('/home/armaan/Hand_Gesture/images_data/'+gest)\n",
    "    path = '/home/armaan/Hand_Gesture/images_data/'+gest\n",
    "    for frame in frames:\n",
    "        img = Image.open(path+'/'+frame)\n",
    "        img = img.resize((50,50))\n",
    "        arr = np.array(img)\n",
    "        arr = arr.flatten()\n",
    "        X_data.append(arr)\n",
    "        Y_data.append([count])\n",
    "    count=count+1"
   ]
  },
  {
   "cell_type": "code",
   "execution_count": 11,
   "metadata": {},
   "outputs": [],
   "source": [
    "np.savetxt(\"dataset_X.csv\", X_data, delimiter=\",\")\n",
    "np.savetxt(\"dataset_Y.csv\", Y_data, delimiter=\",\")"
   ]
  },
  {
   "cell_type": "code",
   "execution_count": null,
   "metadata": {},
   "outputs": [],
   "source": []
  }
 ],
 "metadata": {
  "kernelspec": {
   "display_name": "Python 2",
   "language": "python",
   "name": "python2"
  },
  "language_info": {
   "codemirror_mode": {
    "name": "ipython",
    "version": 2
   },
   "file_extension": ".py",
   "mimetype": "text/x-python",
   "name": "python",
   "nbconvert_exporter": "python",
   "pygments_lexer": "ipython2",
   "version": "2.7.15rc1"
  }
 },
 "nbformat": 4,
 "nbformat_minor": 2
}
